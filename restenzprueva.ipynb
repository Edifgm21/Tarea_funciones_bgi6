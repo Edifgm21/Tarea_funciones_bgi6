{
 "cells": [
  {
   "cell_type": "code",
   "execution_count": 1,
   "metadata": {},
   "outputs": [
    {
     "name": "stdout",
     "output_type": "stream",
     "text": [
      "HindIII: [['CGATGATGAATTCGTACCCGAGCTGAATTCAGCAGAATTCAGCTGATCGATACCAGAATTCCATA']]\n",
      "EcoRI:   [['CGATGAT', 'GTACCCGAGCT', 'AGCA', 'AGCTGATCGATACCA', 'CATA']]\n",
      "KpnI:    [['CGATGATGAATTCGTACCCGAGCTGAATTCAGCAGAATTCAGCTGATCGATACCAGAATTCCATA']]\n"
     ]
    }
   ],
   "source": [
    "import restenz\n",
    "from restenz import cortar_con_enzimas\n",
    "seq= \"CGATGATGAATTCGTACCCGAGCTGAATTCAGCAGAATTCAGCTGATCGATACCAGAATTCCATA\"\n",
    "\n",
    "print('HindIII:', cortar_con_enzimas(seq, 'AAGCTT'))\n",
    "print('EcoRI:  ', cortar_con_enzimas(seq, 'GAATTC'))\n",
    "print('KpnI:   ', cortar_con_enzimas(seq, 'GGTACC'))"
   ]
  }
 ],
 "metadata": {
  "kernelspec": {
   "display_name": "Python 3 (ipykernel)",
   "language": "python",
   "name": "python3"
  },
  "language_info": {
   "codemirror_mode": {
    "name": "ipython",
    "version": 3
   },
   "file_extension": ".py",
   "mimetype": "text/x-python",
   "name": "python",
   "nbconvert_exporter": "python",
   "pygments_lexer": "ipython3",
   "version": "3.10.8"
  },
  "orig_nbformat": 4
 },
 "nbformat": 4,
 "nbformat_minor": 2
}
